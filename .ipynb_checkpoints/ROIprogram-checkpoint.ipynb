{
 "cells": [
  {
   "cell_type": "code",
   "execution_count": 2,
   "id": "0416143a",
   "metadata": {},
   "outputs": [
    {
     "name": "stdout",
     "output_type": "stream",
     "text": [
      "Enter the purchase price of the property: 30000\n",
      "Enter the monthly rent: 1300\n",
      "Enter the annual expenses: 2000\n",
      "Annual Income: $15600.00\n",
      "Net Income: $9472.00\n",
      "ROI: 31.57%\n"
     ]
    }
   ],
   "source": [
    "class RentalProperty:\n",
    "    def __init__(self, purchase_price, monthly_rent, annual_expenses):\n",
    "        self.purchase_price = purchase_price\n",
    "        self.monthly_rent = monthly_rent\n",
    "        self.annual_expenses = annual_expenses\n",
    "    \n",
    "    def calculate_annual_income(self):\n",
    "        return self.monthly_rent * 12\n",
    "    \n",
    "    def calculate_net_income(self):\n",
    "        return self.calculate_annual_income() - self.calculate_total_expenses()\n",
    "    \n",
    "    def calculate_roi(self):\n",
    "        net_income = self.calculate_net_income()\n",
    "        return (net_income / self.purchase_price) * 100\n",
    "    \n",
    "    def calculate_total_expenses(self):\n",
    "        return (\n",
    "            self.calculate_tax() + \n",
    "            self.calculate_insurance() + \n",
    "            self.calculate_utilities() + \n",
    "            self.calculate_vacancy() + \n",
    "            self.calculate_repairs() + \n",
    "            self.calculate_capital_expenditures() + \n",
    "            self.calculate_property_management()\n",
    "        )\n",
    "    \n",
    "    def calculate_tax(self):\n",
    "        # Calculate property tax expenses as a percentage of purchase price\n",
    "        return self.purchase_price * 0.02\n",
    "    \n",
    "    def calculate_insurance(self):\n",
    "        # Calculate insurance expenses based on a fixed amount\n",
    "        return 1000\n",
    "    \n",
    "    def calculate_utilities(self):\n",
    "        # Calculate utilities expenses based on a fixed amount\n",
    "        return 500\n",
    "    \n",
    "    def calculate_vacancy(self):\n",
    "        # Calculate vacancy expenses as a percentage of annual income\n",
    "        return self.calculate_annual_income() * 0.05\n",
    "    \n",
    "    def calculate_repairs(self):\n",
    "        # Calculate repairs expenses based on a fixed amount\n",
    "        return 800\n",
    "    \n",
    "    def calculate_capital_expenditures(self):\n",
    "        # Calculate capital expenditures expenses based on a fixed amount\n",
    "        return 1200\n",
    "    \n",
    "    def calculate_property_management(self):\n",
    "        # Calculate property management expenses based on a percentage of annual income\n",
    "        return self.calculate_annual_income() * 0.08\n",
    "\n",
    "\n",
    "def main():\n",
    "    purchase_price = float(input(\"Enter the purchase price of the property: \"))\n",
    "    monthly_rent = float(input(\"Enter the monthly rent: \"))\n",
    "    annual_expenses = float(input(\"Enter the annual expenses: \"))\n",
    "    \n",
    "    property = RentalProperty(purchase_price, monthly_rent, annual_expenses)\n",
    "    \n",
    "    annual_income = property.calculate_annual_income()\n",
    "    net_income = property.calculate_net_income()\n",
    "    roi = property.calculate_roi()\n",
    "    \n",
    "    print(f\"Annual Income: ${annual_income:.2f}\")\n",
    "    print(f\"Net Income: ${net_income:.2f}\")\n",
    "    print(f\"ROI: {roi:.2f}%\")\n",
    "    \n",
    "\n",
    "if __name__ == \"__main__\":\n",
    "    main()\n"
   ]
  },
  {
   "cell_type": "code",
   "execution_count": null,
   "id": "8f049077",
   "metadata": {},
   "outputs": [],
   "source": []
  }
 ],
 "metadata": {
  "kernelspec": {
   "display_name": "Python 3 (ipykernel)",
   "language": "python",
   "name": "python3"
  },
  "language_info": {
   "codemirror_mode": {
    "name": "ipython",
    "version": 3
   },
   "file_extension": ".py",
   "mimetype": "text/x-python",
   "name": "python",
   "nbconvert_exporter": "python",
   "pygments_lexer": "ipython3",
   "version": "3.10.9"
  }
 },
 "nbformat": 4,
 "nbformat_minor": 5
}
